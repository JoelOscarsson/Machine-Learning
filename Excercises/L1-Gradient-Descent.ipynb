{
 "cells": [
  {
   "attachments": {},
   "cell_type": "markdown",
   "metadata": {},
   "source": [
    "## 0. Simulate dataset (*)\n",
    "# Simulate datasets according to these rules:\n",
    "* ### set random seed to 42\n",
    "* ### (1000,2) samples from  𝑋∼$\\mathcal{U}$(0,1)  , i.e. 1000 rows, 2 columns.\n",
    "* ### 1000 samples from  $\\epsilon \\sim N$(0,1) \n",
    "* ### 𝑦=3𝑥1+5𝑥2+3+𝜖  , where  𝑥𝑖  is column  𝑖  of  𝑋 \n",
    "* ### Finally add a column of ones for the intercept to  𝑋 ."
   ]
  },
  {
   "cell_type": "code",
   "execution_count": 8,
   "metadata": {},
   "outputs": [
    {
     "name": "stdout",
     "output_type": "stream",
     "text": [
      "(1000, 2) (1000, 2)\n"
     ]
    },
    {
     "data": {
      "text/plain": [
       "(array([[-0.87798259, -0.82688035],\n",
       "        [-0.22647889,  0.36736551],\n",
       "        [ 0.91358463, -0.80317895],\n",
       "        ...,\n",
       "        [ 0.6870658 ,  1.46654086],\n",
       "        [-1.11158025, -0.03582558],\n",
       "        [-0.53145455, -1.56785943]]),\n",
       " array([[0.37454012, 0.95071431],\n",
       "        [0.73199394, 0.59865848],\n",
       "        [0.15601864, 0.15599452],\n",
       "        ...,\n",
       "        [0.75137509, 0.65695516],\n",
       "        [0.95661462, 0.06895802],\n",
       "        [0.05705472, 0.28218707]]))"
      ]
     },
     "execution_count": 8,
     "metadata": {},
     "output_type": "execute_result"
    }
   ],
   "source": [
    "import pandas as pd\n",
    "import numpy as np\n",
    "import matplotlib.pyplot as plt\n",
    "\n",
    "np.random.seed(42)\n",
    "samples = 1000\n",
    "\n",
    "X = np.random.rand(samples, 2)\n",
    "Epsilon = np.random.normal(0, 1, size=(samples, 2)) # mean 0, std 1\n",
    "\n",
    "print(Epsilon.shape, X.shape)\n",
    "\n",
    "\n",
    "Epsilon, X\n",
    "\n",
    "y = X[:3]+\n",
    "\n"
   ]
  },
  {
   "cell_type": "code",
   "execution_count": null,
   "metadata": {},
   "outputs": [],
   "source": []
  }
 ],
 "metadata": {
  "kernelspec": {
   "display_name": "Machine-Learning-I2BFtoY6",
   "language": "python",
   "name": "python3"
  },
  "language_info": {
   "codemirror_mode": {
    "name": "ipython",
    "version": 3
   },
   "file_extension": ".py",
   "mimetype": "text/x-python",
   "name": "python",
   "nbconvert_exporter": "python",
   "pygments_lexer": "ipython3",
   "version": "3.9.13"
  },
  "orig_nbformat": 4,
  "vscode": {
   "interpreter": {
    "hash": "a90a544548112fd3fa9316a2ef2cee63f5075b890673fd358010aa684e625a09"
   }
  }
 },
 "nbformat": 4,
 "nbformat_minor": 2
}
