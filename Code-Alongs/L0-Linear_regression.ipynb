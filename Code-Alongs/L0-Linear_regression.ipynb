{
 "cells": [
  {
   "attachments": {},
   "cell_type": "markdown",
   "metadata": {},
   "source": [
    "## Lecture/Notes/Code-Along"
   ]
  },
  {
   "attachments": {},
   "cell_type": "markdown",
   "metadata": {},
   "source": [
    "---------\n",
    "## Case\n",
    "\n",
    "There is a company which spends money on advertisement for different media channels: TV, radio and newspaper.\n",
    "\n",
    "## Task:\n",
    "\n",
    "* suggest marketing plan to increase sales units\n",
    "* use linear regression to predict sales based on different spendings on different marketing channels\n",
    "---------\n",
    "## Initial EDA - Exploratory Data Analysis\n",
    "\n",
    "The dataset for this lecture comes from ISLR - Introduction to Statistical Learning. The dataset used is Advertising.csv\n",
    "\n",
    "Units:\n",
    "\n",
    "* TV, radio, newspaper - thousands dollars\n",
    "* Sales - thousands units"
   ]
  },
  {
   "cell_type": "code",
   "execution_count": null,
   "metadata": {},
   "outputs": [],
   "source": [
    "import pandas as pd\n",
    "import seaborn as sns\n",
    "import matplotlib.pyplot as plt\n",
    "import numpy as np\n"
   ]
  }
 ],
 "metadata": {
  "kernelspec": {
   "display_name": "joeloscarsson-QfOpiLvA",
   "language": "python",
   "name": "python3"
  },
  "language_info": {
   "name": "python",
   "version": "3.9.13"
  },
  "orig_nbformat": 4,
  "vscode": {
   "interpreter": {
    "hash": "975191296c0e97fb90c75dce11624c7ca4ece9391d1bcd06a711f8b18a3605c3"
   }
  }
 },
 "nbformat": 4,
 "nbformat_minor": 2
}
