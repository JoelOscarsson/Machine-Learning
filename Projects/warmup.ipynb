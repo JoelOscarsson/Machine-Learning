{
 "cells": [
  {
   "attachments": {},
   "cell_type": "markdown",
   "metadata": {},
   "source": [
    "## Recommender system\n",
    "\n",
    "Whether is is watching Youtube, ordering food online, buy books online, listening on Spotify, using LinkedIn. You\n",
    "get constant recommendations for new videoclips, what to eat and much more. What's behind all this is a recommender system."
   ]
  },
  {
   "attachments": {},
   "cell_type": "markdown",
   "metadata": {},
   "source": [
    "### Warmup\n",
    "Creating a easy recommender system for movies with KNN. \n",
    "\n",
    "100.000 dataset."
   ]
  },
  {
   "cell_type": "code",
   "execution_count": 43,
   "metadata": {},
   "outputs": [],
   "source": [
    "import pandas as pd\n",
    "from scipy.sparse import csr_matrix\n",
    "# k-nearest\n",
    "from sklearn.neighbors import NearestNeighbors\n",
    "\n",
    "## Efficent way to match two strings together\n",
    "    # What it does is:\n",
    "        # if we have spelling mistakes, capitalizing or forget to add spaces it can mash movies\n",
    "        # it can select the index\n",
    "from fuzzywuzzy import process\n",
    "import numpy as np"
   ]
  },
  {
   "cell_type": "code",
   "execution_count": 44,
   "metadata": {},
   "outputs": [],
   "source": [
    "movies = (\"/Users/joeloscarsson/Documents/www/Machine-Learning/Projects/data2/movies.csv\")\n",
    "ratings = (\"/Users/joeloscarsson/Documents/www/Machine-Learning/Projects/data2/ratings.csv\")"
   ]
  },
  {
   "cell_type": "code",
   "execution_count": 45,
   "metadata": {},
   "outputs": [],
   "source": [
    "df_movies = pd.read_csv(movies, usecols=['movieId', 'title'], dtype={'movieId': 'int32', 'title': 'str'})\n",
    "df_ratings = pd.read_csv(ratings, usecols=['userId', 'movieId', 'rating'], dtype={'userId': 'int32', 'movieId': 'int32', 'rating':'float32'})"
   ]
  },
  {
   "cell_type": "code",
   "execution_count": 46,
   "metadata": {},
   "outputs": [
    {
     "data": {
      "text/plain": [
       "RangeIndex(start=0, stop=100836, step=1)"
      ]
     },
     "execution_count": 46,
     "metadata": {},
     "output_type": "execute_result"
    }
   ],
   "source": [
    "# df_ratings.index\n",
    "df_ratings.index"
   ]
  },
  {
   "cell_type": "code",
   "execution_count": 68,
   "metadata": {},
   "outputs": [],
   "source": [
    "# To be able to convert data to see K-Nearest\n",
    "# Use Spare Matrix\n",
    "# example \n",
    "#          Users\n",
    "#         [4,4,5] A\n",
    "# Movies  [3,3,4] B == Cos A,B) => 0.95 Similar\n",
    "#         [3,2,1] C\n",
    "\n",
    "\n",
    "# Why we use \"rating\" is the same reason we use \"Sales\" in Excercises. So we can get something for y-axis to compare\n",
    "movies_users = df_ratings.pivot(index='movieId', columns='userId', values='rating').fillna(0)\n",
    "# A lot of NaN values because people haven't voted on a movie. We can't process this data so we used .fillna(0)\n",
    "mat_movies_users = csr_matrix(movies_users.values)"
   ]
  },
  {
   "cell_type": "code",
   "execution_count": 49,
   "metadata": {},
   "outputs": [
    {
     "data": {
      "text/html": [
       "<div>\n",
       "<style scoped>\n",
       "    .dataframe tbody tr th:only-of-type {\n",
       "        vertical-align: middle;\n",
       "    }\n",
       "\n",
       "    .dataframe tbody tr th {\n",
       "        vertical-align: top;\n",
       "    }\n",
       "\n",
       "    .dataframe thead th {\n",
       "        text-align: right;\n",
       "    }\n",
       "</style>\n",
       "<table border=\"1\" class=\"dataframe\">\n",
       "  <thead>\n",
       "    <tr style=\"text-align: right;\">\n",
       "      <th></th>\n",
       "      <th>movieId</th>\n",
       "      <th>title</th>\n",
       "    </tr>\n",
       "  </thead>\n",
       "  <tbody>\n",
       "    <tr>\n",
       "      <th>0</th>\n",
       "      <td>1</td>\n",
       "      <td>Toy Story (1995)</td>\n",
       "    </tr>\n",
       "    <tr>\n",
       "      <th>1</th>\n",
       "      <td>2</td>\n",
       "      <td>Jumanji (1995)</td>\n",
       "    </tr>\n",
       "    <tr>\n",
       "      <th>2</th>\n",
       "      <td>3</td>\n",
       "      <td>Grumpier Old Men (1995)</td>\n",
       "    </tr>\n",
       "    <tr>\n",
       "      <th>3</th>\n",
       "      <td>4</td>\n",
       "      <td>Waiting to Exhale (1995)</td>\n",
       "    </tr>\n",
       "    <tr>\n",
       "      <th>4</th>\n",
       "      <td>5</td>\n",
       "      <td>Father of the Bride Part II (1995)</td>\n",
       "    </tr>\n",
       "  </tbody>\n",
       "</table>\n",
       "</div>"
      ],
      "text/plain": [
       "   movieId                               title\n",
       "0        1                    Toy Story (1995)\n",
       "1        2                      Jumanji (1995)\n",
       "2        3             Grumpier Old Men (1995)\n",
       "3        4            Waiting to Exhale (1995)\n",
       "4        5  Father of the Bride Part II (1995)"
      ]
     },
     "execution_count": 49,
     "metadata": {},
     "output_type": "execute_result"
    }
   ],
   "source": [
    "df_movies.head()"
   ]
  },
  {
   "cell_type": "code",
   "execution_count": 50,
   "metadata": {},
   "outputs": [],
   "source": [
    "# Specifying distance between two vectors \n",
    "# Euclidean Distance\n",
    "# Manhattan Distance\n",
    "# Minkowski Distance\n",
    "\n",
    "\n",
    "# Cosine Similarity\n",
    "\n",
    "\n",
    "# Using brute because traverse thru all datapoints in the whole dataset \n",
    "model_knn = NearestNeighbors(metric='cosine', algorithm='brute', n_neighbors= 20)"
   ]
  },
  {
   "cell_type": "code",
   "execution_count": 51,
   "metadata": {},
   "outputs": [
    {
     "data": {
      "text/html": [
       "<style>#sk-container-id-4 {color: black;background-color: white;}#sk-container-id-4 pre{padding: 0;}#sk-container-id-4 div.sk-toggleable {background-color: white;}#sk-container-id-4 label.sk-toggleable__label {cursor: pointer;display: block;width: 100%;margin-bottom: 0;padding: 0.3em;box-sizing: border-box;text-align: center;}#sk-container-id-4 label.sk-toggleable__label-arrow:before {content: \"▸\";float: left;margin-right: 0.25em;color: #696969;}#sk-container-id-4 label.sk-toggleable__label-arrow:hover:before {color: black;}#sk-container-id-4 div.sk-estimator:hover label.sk-toggleable__label-arrow:before {color: black;}#sk-container-id-4 div.sk-toggleable__content {max-height: 0;max-width: 0;overflow: hidden;text-align: left;background-color: #f0f8ff;}#sk-container-id-4 div.sk-toggleable__content pre {margin: 0.2em;color: black;border-radius: 0.25em;background-color: #f0f8ff;}#sk-container-id-4 input.sk-toggleable__control:checked~div.sk-toggleable__content {max-height: 200px;max-width: 100%;overflow: auto;}#sk-container-id-4 input.sk-toggleable__control:checked~label.sk-toggleable__label-arrow:before {content: \"▾\";}#sk-container-id-4 div.sk-estimator input.sk-toggleable__control:checked~label.sk-toggleable__label {background-color: #d4ebff;}#sk-container-id-4 div.sk-label input.sk-toggleable__control:checked~label.sk-toggleable__label {background-color: #d4ebff;}#sk-container-id-4 input.sk-hidden--visually {border: 0;clip: rect(1px 1px 1px 1px);clip: rect(1px, 1px, 1px, 1px);height: 1px;margin: -1px;overflow: hidden;padding: 0;position: absolute;width: 1px;}#sk-container-id-4 div.sk-estimator {font-family: monospace;background-color: #f0f8ff;border: 1px dotted black;border-radius: 0.25em;box-sizing: border-box;margin-bottom: 0.5em;}#sk-container-id-4 div.sk-estimator:hover {background-color: #d4ebff;}#sk-container-id-4 div.sk-parallel-item::after {content: \"\";width: 100%;border-bottom: 1px solid gray;flex-grow: 1;}#sk-container-id-4 div.sk-label:hover label.sk-toggleable__label {background-color: #d4ebff;}#sk-container-id-4 div.sk-serial::before {content: \"\";position: absolute;border-left: 1px solid gray;box-sizing: border-box;top: 0;bottom: 0;left: 50%;z-index: 0;}#sk-container-id-4 div.sk-serial {display: flex;flex-direction: column;align-items: center;background-color: white;padding-right: 0.2em;padding-left: 0.2em;position: relative;}#sk-container-id-4 div.sk-item {position: relative;z-index: 1;}#sk-container-id-4 div.sk-parallel {display: flex;align-items: stretch;justify-content: center;background-color: white;position: relative;}#sk-container-id-4 div.sk-item::before, #sk-container-id-4 div.sk-parallel-item::before {content: \"\";position: absolute;border-left: 1px solid gray;box-sizing: border-box;top: 0;bottom: 0;left: 50%;z-index: -1;}#sk-container-id-4 div.sk-parallel-item {display: flex;flex-direction: column;z-index: 1;position: relative;background-color: white;}#sk-container-id-4 div.sk-parallel-item:first-child::after {align-self: flex-end;width: 50%;}#sk-container-id-4 div.sk-parallel-item:last-child::after {align-self: flex-start;width: 50%;}#sk-container-id-4 div.sk-parallel-item:only-child::after {width: 0;}#sk-container-id-4 div.sk-dashed-wrapped {border: 1px dashed gray;margin: 0 0.4em 0.5em 0.4em;box-sizing: border-box;padding-bottom: 0.4em;background-color: white;}#sk-container-id-4 div.sk-label label {font-family: monospace;font-weight: bold;display: inline-block;line-height: 1.2em;}#sk-container-id-4 div.sk-label-container {text-align: center;}#sk-container-id-4 div.sk-container {/* jupyter's `normalize.less` sets `[hidden] { display: none; }` but bootstrap.min.css set `[hidden] { display: none !important; }` so we also need the `!important` here to be able to override the default hidden behavior on the sphinx rendered scikit-learn.org. See: https://github.com/scikit-learn/scikit-learn/issues/21755 */display: inline-block !important;position: relative;}#sk-container-id-4 div.sk-text-repr-fallback {display: none;}</style><div id=\"sk-container-id-4\" class=\"sk-top-container\"><div class=\"sk-text-repr-fallback\"><pre>NearestNeighbors(algorithm=&#x27;brute&#x27;, metric=&#x27;cosine&#x27;, n_neighbors=20)</pre><b>In a Jupyter environment, please rerun this cell to show the HTML representation or trust the notebook. <br />On GitHub, the HTML representation is unable to render, please try loading this page with nbviewer.org.</b></div><div class=\"sk-container\" hidden><div class=\"sk-item\"><div class=\"sk-estimator sk-toggleable\"><input class=\"sk-toggleable__control sk-hidden--visually\" id=\"sk-estimator-id-4\" type=\"checkbox\" checked><label for=\"sk-estimator-id-4\" class=\"sk-toggleable__label sk-toggleable__label-arrow\">NearestNeighbors</label><div class=\"sk-toggleable__content\"><pre>NearestNeighbors(algorithm=&#x27;brute&#x27;, metric=&#x27;cosine&#x27;, n_neighbors=20)</pre></div></div></div></div></div>"
      ],
      "text/plain": [
       "NearestNeighbors(algorithm='brute', metric='cosine', n_neighbors=20)"
      ]
     },
     "execution_count": 51,
     "metadata": {},
     "output_type": "execute_result"
    }
   ],
   "source": [
    "model_knn.fit(mat_movies_users)"
   ]
  },
  {
   "cell_type": "code",
   "execution_count": 52,
   "metadata": {},
   "outputs": [
    {
     "data": {
      "text/plain": [
       "movieId                   1\n",
       "title      Toy Story (1995)\n",
       "Name: 0, dtype: object"
      ]
     },
     "execution_count": 52,
     "metadata": {},
     "output_type": "execute_result"
    }
   ],
   "source": [
    "df_movies.loc[0]"
   ]
  },
  {
   "cell_type": "code",
   "execution_count": 53,
   "metadata": {},
   "outputs": [
    {
     "name": "stdout",
     "output_type": "stream",
     "text": [
      "Comparing index 0, result: False\n",
      "Comparing index 1, result: False\n",
      "Comparing index 2, result: False\n",
      "Comparing index 3, result: False\n",
      "Comparing index 4, result: False\n",
      "Comparing index 5, result: False\n",
      "Comparing index 6, result: False\n",
      "Comparing index 7, result: False\n",
      "Comparing index 8, result: False\n",
      "Comparing index 9, result: False\n",
      "Comparing index 10, result: False\n",
      "Comparing index 11, result: False\n",
      "Comparing index 12, result: False\n",
      "Comparing index 13, result: False\n",
      "Comparing index 14, result: False\n",
      "Comparing index 15, result: False\n",
      "Comparing index 16, result: False\n",
      "Comparing index 17, result: False\n",
      "Comparing index 18, result: False\n",
      "Comparing index 19, result: False\n",
      "Comparing index 20, result: False\n",
      "Comparing index 21, result: False\n",
      "Comparing index 22, result: False\n",
      "Comparing index 23, result: False\n",
      "Comparing index 24, result: False\n",
      "Comparing index 25, result: False\n",
      "Comparing index 26, result: False\n",
      "Comparing index 27, result: False\n",
      "Comparing index 28, result: False\n",
      "Comparing index 29, result: False\n",
      "Comparing index 30, result: False\n",
      "Comparing index 31, result: False\n",
      "Comparing index 32, result: False\n",
      "Comparing index 33, result: False\n",
      "Comparing index 34, result: False\n",
      "Comparing index 35, result: False\n",
      "Comparing index 36, result: False\n",
      "Comparing index 37, result: False\n",
      "Comparing index 38, result: False\n",
      "Comparing index 39, result: False\n",
      "Comparing index 40, result: False\n",
      "Comparing index 41, result: False\n",
      "Comparing index 42, result: False\n",
      "Comparing index 43, result: False\n",
      "Comparing index 44, result: False\n",
      "Comparing index 45, result: False\n",
      "Comparing index 46, result: False\n",
      "Comparing index 47, result: False\n",
      "Comparing index 48, result: False\n",
      "Comparing index 49, result: False\n",
      "Comparing index 50, result: False\n",
      "Comparing index 51, result: False\n",
      "Comparing index 52, result: False\n",
      "Comparing index 53, result: False\n",
      "Comparing index 54, result: False\n",
      "Comparing index 55, result: False\n",
      "Comparing index 56, result: False\n",
      "Comparing index 57, result: False\n",
      "Comparing index 58, result: False\n",
      "Comparing index 59, result: False\n",
      "Comparing index 60, result: False\n",
      "Comparing index 61, result: False\n",
      "Comparing index 62, result: False\n",
      "Comparing index 63, result: False\n",
      "Comparing index 64, result: False\n",
      "Comparing index 65, result: False\n",
      "Comparing index 66, result: False\n",
      "Comparing index 67, result: False\n",
      "Comparing index 68, result: False\n",
      "Comparing index 69, result: False\n",
      "Comparing index 70, result: False\n",
      "Comparing index 71, result: False\n",
      "Comparing index 72, result: False\n",
      "Comparing index 73, result: False\n",
      "Comparing index 74, result: False\n",
      "Comparing index 75, result: False\n",
      "Comparing index 76, result: False\n",
      "Comparing index 77, result: False\n",
      "Comparing index 78, result: False\n",
      "Comparing index 79, result: False\n",
      "Comparing index 80, result: False\n",
      "Comparing index 81, result: False\n",
      "Comparing index 82, result: False\n",
      "Comparing index 83, result: False\n",
      "Comparing index 84, result: False\n",
      "Comparing index 85, result: False\n",
      "Comparing index 86, result: False\n",
      "Comparing index 87, result: False\n",
      "Comparing index 88, result: False\n",
      "Comparing index 89, result: False\n",
      "Comparing index 90, result: False\n",
      "Comparing index 91, result: False\n",
      "Comparing index 92, result: False\n",
      "Comparing index 93, result: False\n",
      "Comparing index 94, result: False\n",
      "Comparing index 95, result: False\n",
      "Comparing index 96, result: False\n",
      "Comparing index 97, result: False\n",
      "Comparing index 98, result: False\n",
      "Comparing index 99, result: False\n"
     ]
    }
   ],
   "source": [
    "def test(indices):\n",
    "    for idx in indices:\n",
    "        id = df_movies.loc[idx][\"movieId\"]\n",
    "        sum_dataframe = df_ratings[df_ratings[\"movieId\"] == id][\"rating\"].sum()\n",
    "        sum_matrix = mat_movies_users[idx].sum()\n",
    "\n",
    "        print(f\"Comparing index {idx}, result: {sum_dataframe == sum_matrix}\")\n",
    "\n",
    "indices = [i for i in range(100)]\n",
    "test(indices)"
   ]
  },
  {
   "cell_type": "code",
   "execution_count": 54,
   "metadata": {},
   "outputs": [
    {
     "name": "stdout",
     "output_type": "stream",
     "text": [
      "Movie Selected:  Toy Story (1995) Index:  0\n",
      "Searching for recommendations......\n",
      "0                                                    NaN\n",
      "265                 Ready to Wear (Pret-A-Porter) (1994)\n",
      "312                                          Cobb (1994)\n",
      "367                                    Blown Away (1994)\n",
      "56     Don't Be a Menace to South Central While Drink...\n",
      "90                                      Mr. Wrong (1996)\n",
      "468                                    Short Cuts (1993)\n",
      "38                                Dead Presidents (1995)\n",
      "287                        Star Trek: Generations (1994)\n",
      "451                               Renaissance Man (1994)\n",
      "44                                     Pocahontas (1995)\n",
      "18                 Ace Ventura: When Nature Calls (1995)\n",
      "589                                    Last Dance (1996)\n",
      "134                                  Crimson Tide (1995)\n",
      "329                                    Paper, The (1994)\n",
      "479                            Surviving the Game (1994)\n",
      "216                                          I.Q. (1994)\n",
      "576                              Mulholland Falls (1996)\n",
      "560                                    Barbarella (1968)\n",
      "63                                      Fair Game (1995)\n",
      "Name: title, dtype: object\n"
     ]
    }
   ],
   "source": [
    "# Recommender (movie_name) => List of Movies recommended\n",
    "\n",
    "def recommender(movie_name, data, model, n_recommendations):\n",
    "    model.fit(data)\n",
    "    # Extracting one movie fuzzy has selected for us\n",
    "    # so i choose 'title' from df_movies and i want to match movie names in the title column\n",
    "    # We specify index 2 because we have a tuple\n",
    "    idx=process.extractOne(movie_name, df_movies['title'])[2] \n",
    "    # print(idx)\n",
    "    print('Movie Selected: ', df_movies['title'][idx], 'Index: ', idx)\n",
    "    print('Searching for recommendations......')\n",
    "    # We specified the index from one movie to find similar movies\n",
    "        # We got the movie index from what we extracted with help of fuzzywuzzy\n",
    "    distances, indices=model.kneighbors(data[idx], n_neighbors=n_recommendations)\n",
    "\n",
    "    # What we get out is the closest similarities but outcommented this and created a for loop\n",
    "    # print(distances, indices)\n",
    "\n",
    "    # We want all indices close to 100%\n",
    "    # We dont want to compare toy story to toy story therefor i!=idx\n",
    "    for i in indices:\n",
    "        print(df_movies['title'][i].where(i!=idx))\n",
    "\n",
    "recommender('toy story', mat_movies_users, model_knn,20)\n",
    "\n",
    "# gives me the matched sequence it got (90)\n",
    "# gives me the index of the particular movie in the dataset(0)\n",
    "# recommender('toy story')\n",
    " # Output ('Toy Story (1995)', 90, 0)\n",
    "\n",
    " # Based on the user ratings we got movies similair to 'toy story'. Doesn't have to be similar movies though\n",
    " # It is possibly to sort based on genres aswell"
   ]
  }
 ],
 "metadata": {
  "kernelspec": {
   "display_name": "Machine-Learning-I2BFtoY6",
   "language": "python",
   "name": "python3"
  },
  "language_info": {
   "codemirror_mode": {
    "name": "ipython",
    "version": 3
   },
   "file_extension": ".py",
   "mimetype": "text/x-python",
   "name": "python",
   "nbconvert_exporter": "python",
   "pygments_lexer": "ipython3",
   "version": "3.9.13"
  },
  "orig_nbformat": 4,
  "vscode": {
   "interpreter": {
    "hash": "a90a544548112fd3fa9316a2ef2cee63f5075b890673fd358010aa684e625a09"
   }
  }
 },
 "nbformat": 4,
 "nbformat_minor": 2
}
