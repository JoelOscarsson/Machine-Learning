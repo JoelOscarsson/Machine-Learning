{
 "cells": [
  {
   "cell_type": "code",
   "execution_count": 1,
   "metadata": {},
   "outputs": [],
   "source": [
    "# Importing packages thats being used\n",
    "import pandas as pd\n",
    "import seaborn as sns\n",
    "import matplotlib.pyplot as plt"
   ]
  },
  {
   "cell_type": "code",
   "execution_count": 2,
   "metadata": {},
   "outputs": [],
   "source": [
    "movies = pd.read_csv('/Users/joeloscarsson/Documents/www/Machine-Learning/Projects/data3/movies1.csv')\n",
    "ratings = pd.read_csv('/Users/joeloscarsson/Documents/www/Machine-Learning/Projects/data3/ratings1.csv')\n",
    "\n",
    "# # Converting to the datatypes i want to use. \n",
    "# df_movies = pd.read_csv(movies, usecols=['movieId', 'title'], dtype={'movieId': 'int32', 'title': 'str'})\n",
    "# df_ratings = pd.read_csv(ratings, usecols=['userId', 'movieId', 'rating'], dtype={'userId': 'int32', 'movieId': 'int32', 'rating':'float32'})"
   ]
  },
  {
   "cell_type": "code",
   "execution_count": 3,
   "metadata": {},
   "outputs": [
    {
     "data": {
      "text/html": [
       "<div>\n",
       "<style scoped>\n",
       "    .dataframe tbody tr th:only-of-type {\n",
       "        vertical-align: middle;\n",
       "    }\n",
       "\n",
       "    .dataframe tbody tr th {\n",
       "        vertical-align: top;\n",
       "    }\n",
       "\n",
       "    .dataframe thead th {\n",
       "        text-align: right;\n",
       "    }\n",
       "</style>\n",
       "<table border=\"1\" class=\"dataframe\">\n",
       "  <thead>\n",
       "    <tr style=\"text-align: right;\">\n",
       "      <th></th>\n",
       "      <th>movieId</th>\n",
       "      <th>title</th>\n",
       "      <th>genres</th>\n",
       "    </tr>\n",
       "  </thead>\n",
       "  <tbody>\n",
       "    <tr>\n",
       "      <th>0</th>\n",
       "      <td>1</td>\n",
       "      <td>Toy Story (1995)</td>\n",
       "      <td>Adventure|Animation|Children|Comedy|Fantasy</td>\n",
       "    </tr>\n",
       "    <tr>\n",
       "      <th>1</th>\n",
       "      <td>2</td>\n",
       "      <td>Jumanji (1995)</td>\n",
       "      <td>Adventure|Children|Fantasy</td>\n",
       "    </tr>\n",
       "    <tr>\n",
       "      <th>2</th>\n",
       "      <td>3</td>\n",
       "      <td>Grumpier Old Men (1995)</td>\n",
       "      <td>Comedy|Romance</td>\n",
       "    </tr>\n",
       "    <tr>\n",
       "      <th>3</th>\n",
       "      <td>4</td>\n",
       "      <td>Waiting to Exhale (1995)</td>\n",
       "      <td>Comedy|Drama|Romance</td>\n",
       "    </tr>\n",
       "    <tr>\n",
       "      <th>4</th>\n",
       "      <td>5</td>\n",
       "      <td>Father of the Bride Part II (1995)</td>\n",
       "      <td>Comedy</td>\n",
       "    </tr>\n",
       "  </tbody>\n",
       "</table>\n",
       "</div>"
      ],
      "text/plain": [
       "   movieId                               title  \\\n",
       "0        1                    Toy Story (1995)   \n",
       "1        2                      Jumanji (1995)   \n",
       "2        3             Grumpier Old Men (1995)   \n",
       "3        4            Waiting to Exhale (1995)   \n",
       "4        5  Father of the Bride Part II (1995)   \n",
       "\n",
       "                                        genres  \n",
       "0  Adventure|Animation|Children|Comedy|Fantasy  \n",
       "1                   Adventure|Children|Fantasy  \n",
       "2                               Comedy|Romance  \n",
       "3                         Comedy|Drama|Romance  \n",
       "4                                       Comedy  "
      ]
     },
     "execution_count": 3,
     "metadata": {},
     "output_type": "execute_result"
    }
   ],
   "source": [
    "movies.head()"
   ]
  },
  {
   "cell_type": "code",
   "execution_count": 4,
   "metadata": {},
   "outputs": [
    {
     "name": "stdout",
     "output_type": "stream",
     "text": [
      "<class 'pandas.core.frame.DataFrame'>\n",
      "RangeIndex: 58098 entries, 0 to 58097\n",
      "Data columns (total 3 columns):\n",
      " #   Column   Non-Null Count  Dtype \n",
      "---  ------   --------------  ----- \n",
      " 0   movieId  58098 non-null  int64 \n",
      " 1   title    58098 non-null  object\n",
      " 2   genres   58098 non-null  object\n",
      "dtypes: int64(1), object(2)\n",
      "memory usage: 1.3+ MB\n",
      "None\n",
      "             movieId\n",
      "count   58098.000000\n",
      "mean   111919.516197\n",
      "std     59862.660956\n",
      "min         1.000000\n",
      "25%     72437.750000\n",
      "50%    126549.000000\n",
      "75%    161449.500000\n",
      "max    193886.000000\n",
      "0\n"
     ]
    }
   ],
   "source": [
    "# Checking datatypes and entries\n",
    "print(movies.info())\n",
    "\n",
    "# We have 58098 Movies in this dataset\n",
    "print(movies.describe())\n",
    "\n",
    "# We have zero NaN values... for now...\n",
    "print(movies.isnull().sum().sum())\n"
   ]
  },
  {
   "cell_type": "code",
   "execution_count": 5,
   "metadata": {},
   "outputs": [
    {
     "data": {
      "text/html": [
       "<div>\n",
       "<style scoped>\n",
       "    .dataframe tbody tr th:only-of-type {\n",
       "        vertical-align: middle;\n",
       "    }\n",
       "\n",
       "    .dataframe tbody tr th {\n",
       "        vertical-align: top;\n",
       "    }\n",
       "\n",
       "    .dataframe thead th {\n",
       "        text-align: right;\n",
       "    }\n",
       "</style>\n",
       "<table border=\"1\" class=\"dataframe\">\n",
       "  <thead>\n",
       "    <tr style=\"text-align: right;\">\n",
       "      <th></th>\n",
       "      <th>userId</th>\n",
       "      <th>movieId</th>\n",
       "      <th>rating</th>\n",
       "      <th>timestamp</th>\n",
       "    </tr>\n",
       "  </thead>\n",
       "  <tbody>\n",
       "    <tr>\n",
       "      <th>0</th>\n",
       "      <td>1</td>\n",
       "      <td>307</td>\n",
       "      <td>3.5</td>\n",
       "      <td>1256677221</td>\n",
       "    </tr>\n",
       "    <tr>\n",
       "      <th>1</th>\n",
       "      <td>1</td>\n",
       "      <td>481</td>\n",
       "      <td>3.5</td>\n",
       "      <td>1256677456</td>\n",
       "    </tr>\n",
       "    <tr>\n",
       "      <th>2</th>\n",
       "      <td>1</td>\n",
       "      <td>1091</td>\n",
       "      <td>1.5</td>\n",
       "      <td>1256677471</td>\n",
       "    </tr>\n",
       "    <tr>\n",
       "      <th>3</th>\n",
       "      <td>1</td>\n",
       "      <td>1257</td>\n",
       "      <td>4.5</td>\n",
       "      <td>1256677460</td>\n",
       "    </tr>\n",
       "    <tr>\n",
       "      <th>4</th>\n",
       "      <td>1</td>\n",
       "      <td>1449</td>\n",
       "      <td>4.5</td>\n",
       "      <td>1256677264</td>\n",
       "    </tr>\n",
       "  </tbody>\n",
       "</table>\n",
       "</div>"
      ],
      "text/plain": [
       "   userId  movieId  rating   timestamp\n",
       "0       1      307     3.5  1256677221\n",
       "1       1      481     3.5  1256677456\n",
       "2       1     1091     1.5  1256677471\n",
       "3       1     1257     4.5  1256677460\n",
       "4       1     1449     4.5  1256677264"
      ]
     },
     "execution_count": 5,
     "metadata": {},
     "output_type": "execute_result"
    }
   ],
   "source": [
    "ratings.head()"
   ]
  },
  {
   "cell_type": "code",
   "execution_count": 6,
   "metadata": {},
   "outputs": [
    {
     "name": "stdout",
     "output_type": "stream",
     "text": [
      "<class 'pandas.core.frame.DataFrame'>\n",
      "RangeIndex: 27753444 entries, 0 to 27753443\n",
      "Data columns (total 4 columns):\n",
      " #   Column     Dtype  \n",
      "---  ------     -----  \n",
      " 0   userId     int64  \n",
      " 1   movieId    int64  \n",
      " 2   rating     float64\n",
      " 3   timestamp  int64  \n",
      "dtypes: float64(1), int64(3)\n",
      "memory usage: 847.0 MB\n",
      "None\n",
      "   userId  movieId  rating   timestamp\n",
      "0       1      307     3.5  1256677221\n",
      "1       1      481     3.5  1256677456\n",
      "2       1     1091     1.5  1256677471\n",
      "3       1     1257     4.5  1256677460\n",
      "4       1     1449     4.5  1256677264\n",
      "rating\n",
      "4.0       7394710\n",
      "3.0       5515668\n",
      "5.0       4071135\n",
      "3.5       3404360\n",
      "4.5       2373550\n",
      "2.0       1850627\n",
      "2.5       1373419\n",
      "1.0        886233\n",
      "0.5        442388\n",
      "1.5        441354\n",
      "dtype: int64\n"
     ]
    }
   ],
   "source": [
    "# Checking datatypes and entries\n",
    "print(ratings.info())\n",
    "\n",
    "\n",
    "print(ratings.head())\n",
    "\n",
    "# Investigating what kind of values we have in the rating\n",
    "# Can see that we have from 0.5-5.0, i want to avoid diluting this list \n",
    "print(ratings.value_counts(['rating']))"
   ]
  },
  {
   "cell_type": "code",
   "execution_count": 7,
   "metadata": {},
   "outputs": [
    {
     "name": "stdout",
     "output_type": "stream",
     "text": [
      "0\n"
     ]
    }
   ],
   "source": [
    "# So we have zero NaN values in the entire df of ratings, for now...\n",
    "print(ratings.isnull().sum().sum())"
   ]
  },
  {
   "cell_type": "code",
   "execution_count": 8,
   "metadata": {},
   "outputs": [
    {
     "name": "stdout",
     "output_type": "stream",
     "text": [
      "   userId  movieId  rating   timestamp\n",
      "0       1      307     3.5  1256677221\n",
      "1       1      481     3.5  1256677456\n",
      "2       1     1091     1.5  1256677471\n",
      "3       1     1257     4.5  1256677460\n",
      "4       1     1449     4.5  1256677264\n"
     ]
    }
   ],
   "source": [
    "print(ratings.head())"
   ]
  },
  {
   "cell_type": "code",
   "execution_count": 9,
   "metadata": {},
   "outputs": [
    {
     "name": "stdout",
     "output_type": "stream",
     "text": [
      "   movieId                               title  \\\n",
      "0        1                    Toy Story (1995)   \n",
      "1        2                      Jumanji (1995)   \n",
      "2        3             Grumpier Old Men (1995)   \n",
      "3        4            Waiting to Exhale (1995)   \n",
      "4        5  Father of the Bride Part II (1995)   \n",
      "\n",
      "                                        genres  \n",
      "0  Adventure|Animation|Children|Comedy|Fantasy  \n",
      "1                   Adventure|Children|Fantasy  \n",
      "2                               Comedy|Romance  \n",
      "3                         Comedy|Drama|Romance  \n",
      "4                                       Comedy  \n"
     ]
    }
   ],
   "source": [
    "print(movies.head())"
   ]
  },
  {
   "cell_type": "code",
   "execution_count": 10,
   "metadata": {},
   "outputs": [
    {
     "data": {
      "text/html": [
       "<div>\n",
       "<style scoped>\n",
       "    .dataframe tbody tr th:only-of-type {\n",
       "        vertical-align: middle;\n",
       "    }\n",
       "\n",
       "    .dataframe tbody tr th {\n",
       "        vertical-align: top;\n",
       "    }\n",
       "\n",
       "    .dataframe thead th {\n",
       "        text-align: right;\n",
       "    }\n",
       "</style>\n",
       "<table border=\"1\" class=\"dataframe\">\n",
       "  <thead>\n",
       "    <tr style=\"text-align: right;\">\n",
       "      <th></th>\n",
       "      <th>userId</th>\n",
       "      <th>movieId</th>\n",
       "      <th>rating</th>\n",
       "      <th>timestamp</th>\n",
       "      <th>title</th>\n",
       "      <th>genres</th>\n",
       "    </tr>\n",
       "  </thead>\n",
       "  <tbody>\n",
       "    <tr>\n",
       "      <th>0</th>\n",
       "      <td>1</td>\n",
       "      <td>307</td>\n",
       "      <td>3.5</td>\n",
       "      <td>1256677221</td>\n",
       "      <td>Three Colors: Blue (Trois couleurs: Bleu) (1993)</td>\n",
       "      <td>Drama</td>\n",
       "    </tr>\n",
       "    <tr>\n",
       "      <th>1</th>\n",
       "      <td>6</td>\n",
       "      <td>307</td>\n",
       "      <td>4.0</td>\n",
       "      <td>832059248</td>\n",
       "      <td>Three Colors: Blue (Trois couleurs: Bleu) (1993)</td>\n",
       "      <td>Drama</td>\n",
       "    </tr>\n",
       "    <tr>\n",
       "      <th>2</th>\n",
       "      <td>56</td>\n",
       "      <td>307</td>\n",
       "      <td>4.0</td>\n",
       "      <td>1383625728</td>\n",
       "      <td>Three Colors: Blue (Trois couleurs: Bleu) (1993)</td>\n",
       "      <td>Drama</td>\n",
       "    </tr>\n",
       "    <tr>\n",
       "      <th>3</th>\n",
       "      <td>71</td>\n",
       "      <td>307</td>\n",
       "      <td>5.0</td>\n",
       "      <td>1257795414</td>\n",
       "      <td>Three Colors: Blue (Trois couleurs: Bleu) (1993)</td>\n",
       "      <td>Drama</td>\n",
       "    </tr>\n",
       "    <tr>\n",
       "      <th>4</th>\n",
       "      <td>84</td>\n",
       "      <td>307</td>\n",
       "      <td>3.0</td>\n",
       "      <td>999055519</td>\n",
       "      <td>Three Colors: Blue (Trois couleurs: Bleu) (1993)</td>\n",
       "      <td>Drama</td>\n",
       "    </tr>\n",
       "    <tr>\n",
       "      <th>...</th>\n",
       "      <td>...</td>\n",
       "      <td>...</td>\n",
       "      <td>...</td>\n",
       "      <td>...</td>\n",
       "      <td>...</td>\n",
       "      <td>...</td>\n",
       "    </tr>\n",
       "    <tr>\n",
       "      <th>27753439</th>\n",
       "      <td>282403</td>\n",
       "      <td>167894</td>\n",
       "      <td>1.0</td>\n",
       "      <td>1524243885</td>\n",
       "      <td>Stranglehold (1994)</td>\n",
       "      <td>Action</td>\n",
       "    </tr>\n",
       "    <tr>\n",
       "      <th>27753440</th>\n",
       "      <td>282732</td>\n",
       "      <td>161572</td>\n",
       "      <td>3.5</td>\n",
       "      <td>1504408070</td>\n",
       "      <td>The Great Houdini (1976)</td>\n",
       "      <td>Drama</td>\n",
       "    </tr>\n",
       "    <tr>\n",
       "      <th>27753441</th>\n",
       "      <td>283000</td>\n",
       "      <td>117857</td>\n",
       "      <td>3.5</td>\n",
       "      <td>1417317969</td>\n",
       "      <td>Hotline (2014)</td>\n",
       "      <td>Documentary</td>\n",
       "    </tr>\n",
       "    <tr>\n",
       "      <th>27753442</th>\n",
       "      <td>283000</td>\n",
       "      <td>133409</td>\n",
       "      <td>3.5</td>\n",
       "      <td>1431539331</td>\n",
       "      <td>Barnum! (1986)</td>\n",
       "      <td>(no genres listed)</td>\n",
       "    </tr>\n",
       "    <tr>\n",
       "      <th>27753443</th>\n",
       "      <td>283000</td>\n",
       "      <td>142855</td>\n",
       "      <td>3.5</td>\n",
       "      <td>1442889934</td>\n",
       "      <td>Paul Taylor Creative Domain (2014)</td>\n",
       "      <td>Documentary</td>\n",
       "    </tr>\n",
       "  </tbody>\n",
       "</table>\n",
       "<p>27753444 rows × 6 columns</p>\n",
       "</div>"
      ],
      "text/plain": [
       "          userId  movieId  rating   timestamp  \\\n",
       "0              1      307     3.5  1256677221   \n",
       "1              6      307     4.0   832059248   \n",
       "2             56      307     4.0  1383625728   \n",
       "3             71      307     5.0  1257795414   \n",
       "4             84      307     3.0   999055519   \n",
       "...          ...      ...     ...         ...   \n",
       "27753439  282403   167894     1.0  1524243885   \n",
       "27753440  282732   161572     3.5  1504408070   \n",
       "27753441  283000   117857     3.5  1417317969   \n",
       "27753442  283000   133409     3.5  1431539331   \n",
       "27753443  283000   142855     3.5  1442889934   \n",
       "\n",
       "                                                     title              genres  \n",
       "0         Three Colors: Blue (Trois couleurs: Bleu) (1993)               Drama  \n",
       "1         Three Colors: Blue (Trois couleurs: Bleu) (1993)               Drama  \n",
       "2         Three Colors: Blue (Trois couleurs: Bleu) (1993)               Drama  \n",
       "3         Three Colors: Blue (Trois couleurs: Bleu) (1993)               Drama  \n",
       "4         Three Colors: Blue (Trois couleurs: Bleu) (1993)               Drama  \n",
       "...                                                    ...                 ...  \n",
       "27753439                               Stranglehold (1994)              Action  \n",
       "27753440                          The Great Houdini (1976)               Drama  \n",
       "27753441                                    Hotline (2014)         Documentary  \n",
       "27753442                                    Barnum! (1986)  (no genres listed)  \n",
       "27753443                Paul Taylor Creative Domain (2014)         Documentary  \n",
       "\n",
       "[27753444 rows x 6 columns]"
      ]
     },
     "execution_count": 10,
     "metadata": {},
     "output_type": "execute_result"
    }
   ],
   "source": [
    "df_merged = pd.merge(ratings, movies)\n",
    "df_merged"
   ]
  },
  {
   "attachments": {},
   "cell_type": "markdown",
   "metadata": {},
   "source": [
    "Vilka är de 10 filmerna med flest ratings?\n",
    "\n"
   ]
  },
  {
   "cell_type": "code",
   "execution_count": 11,
   "metadata": {},
   "outputs": [
    {
     "data": {
      "image/png": "[encoded data removed]",
      "text/plain": [
       "<Figure size 1400x600 with 1 Axes>"
      ]
     },
     "metadata": {},
     "output_type": "display_data"
    }
   ],
   "source": [
    "# Making a new df for only rating to save speed.\n",
    "df_cleaned_list = df_merged.drop([\"timestamp\", \"genres\"], axis=1)\n",
    "\n",
    "def movie_ratings(df_cleaned_list, title):\n",
    "    # get the top 10 movies with the most ratings\n",
    "    df_top10_most_ratings = df_cleaned_list.groupby('title')['userId'].count().nlargest(10)\n",
    "    \n",
    "    # get the count of ratings for each rating level for the top 10 movies\n",
    "    df_top10_ratings = df_cleaned_list[df_cleaned_list['title'].isin(df_top10_most_ratings.index)].groupby('rating')['userId'].count()\n",
    "    \n",
    "    # get the count of ratings for the specified movie\n",
    "    unique_movie_counts = df_cleaned_list[df_cleaned_list['title'] == title]['title'].value_counts().values[0]\n",
    "    return df_top10_most_ratings, unique_movie_counts\n",
    "\n",
    "# call the movie_ratings function with the dataframe and the title of the movie\n",
    "df_top10_ratings, unique_movie_counts = movie_ratings(df_cleaned_list, \"Shawshank Redemption, The (1994)\")\n",
    "\n",
    "# print(\"Top 10 movies with the most ratings by rating level:\\n\", df_top10_ratings)\n",
    "\n",
    "# create a barplot of the top 10 movies by rating count\n",
    "plt.figure(figsize=(14, 6))\n",
    "sns.barplot(x=df_top10_ratings.index, y=df_top10_ratings.values, palette=\"dark:#5A9_r\")\n",
    "plt.title('Top 10 Movies by Rating Count')\n",
    "plt.xlabel('Rating', size = 20)\n",
    "plt.ylabel('Count', size = 20)\n",
    "plt.xticks(rotation=30, rotation_mode=\"anchor\", ha=\"right\")\n",
    "\n",
    "\n",
    "plt.show()"
   ]
  },
  {
   "cell_type": "code",
   "execution_count": 16,
   "metadata": {},
   "outputs": [
    {
     "ename": "NameError",
     "evalue": "name 'df_mean_ratings' is not defined",
     "output_type": "error",
     "traceback": [
      "\u001b[0;31m---------------------------------------------------------------------------\u001b[0m",
      "\u001b[0;31mNameError\u001b[0m                                 Traceback (most recent call last)",
      "Cell \u001b[0;32mIn[16], line 17\u001b[0m\n\u001b[1;32m     13\u001b[0m     \u001b[39mreturn\u001b[39;00m df_mean_ratings, df_movies\n\u001b[1;32m     16\u001b[0m \u001b[39m# sort the mean ratings in descending order why isn't it taking the function?\u001b[39;00m\n\u001b[0;32m---> 17\u001b[0m df_mean_ratings_sorted \u001b[39m=\u001b[39m df_mean_ratings\u001b[39m.\u001b[39msort_values(ascending\u001b[39m=\u001b[39m\u001b[39mTrue\u001b[39;00m)\n\u001b[1;32m     19\u001b[0m color \u001b[39m=\u001b[39m \u001b[39m'\u001b[39m\u001b[39m#5A9\u001b[39m\u001b[39m'\u001b[39m\n\u001b[1;32m     21\u001b[0m \u001b[39m# create a horizontal bar plot of the mean ratings\u001b[39;00m\n",
      "\u001b[0;31mNameError\u001b[0m: name 'df_mean_ratings' is not defined"
     ]
    }
   ],
   "source": [
    "\n",
    "df_cleaned_list\n",
    "\n",
    "def calculate_mean_ratings(df_cleaned_list, movie_list):\n",
    "    # filter the dataframe to include only the movies in the movie_list\n",
    "    df_movies = df_cleaned_list[df_cleaned_list['title'].isin(movie_list)]\n",
    "    \n",
    "    # calculate the mean rating for each movie\n",
    "    df_mean_ratings = df_movies.groupby('title')['rating'].mean()\n",
    "    \n",
    "    # # sort the mean ratings in descending order\n",
    "    # df_mean_ratings = df_mean_ratings.sort_values(ascending=True)\n",
    "    \n",
    "    return df_mean_ratings, df_movies\n",
    "\n",
    "\n",
    "# sort the mean ratings in descending order why isn't it taking the function?\n",
    "df_mean_ratings_sorted = df_mean_ratings.sort_values(ascending=True)\n",
    "\n",
    "color = '#5A9'\n",
    "\n",
    "# create a horizontal bar plot of the mean ratings\n",
    "plt.barh(df_mean_ratings_sorted.index, df_mean_ratings_sorted.values, color=color)\n",
    "\n",
    "# set the title and labels for the plot\n",
    "plt.title('Mean Ratings for Top 10 Movies')\n",
    "plt.xlabel('Mean Rating')\n",
    "plt.ylabel('Movie Title')\n",
    "\n",
    "# display the plot\n",
    "plt.show()"
   ]
  },
  {
   "cell_type": "code",
   "execution_count": 17,
   "metadata": {},
   "outputs": [
    {
     "data": {
      "text/plain": [
       "title\n",
       "Shawshank Redemption, The (1994)             4.424188\n",
       "Schindler's List (1993)                      4.257502\n",
       "Pulp Fiction (1994)                          4.173971\n",
       "Silence of the Lambs, The (1991)             4.151412\n",
       "Matrix, The (1999)                           4.149695\n",
       "Star Wars: Episode IV - A New Hope (1977)    4.120455\n",
       "Forrest Gump (1994)                          4.056585\n",
       "Braveheart (1995)                            4.008481\n",
       "Toy Story (1995)                             3.886649\n",
       "Jurassic Park (1993)                         3.665034\n",
       "Name: rating, dtype: float64"
      ]
     },
     "execution_count": 17,
     "metadata": {},
     "output_type": "execute_result"
    }
   ],
   "source": [
    "# TODO: Calculate the mean rating for the top10 with THE MOST ratings, and plot\n",
    "\n",
    "df_cleaned_list = df_merged.drop([\"timestamp\", \"genres\"], axis=1)\n",
    "\n",
    "df_mean_ratings = df_cleaned_list[df_cleaned_list['title'].isin(df_top10_ratings.index)].groupby('title')['rating'].mean()\n",
    "df_mean_ratings.sort_values(ascending=False)"
   ]
  },
  {
   "attachments": {},
   "cell_type": "markdown",
   "metadata": {},
   "source": [
    "# TODO: Do a plot over the years and how many movies that was created that year, to represent the dataset"
   ]
  },
  {
   "cell_type": "code",
   "execution_count": 18,
   "metadata": {},
   "outputs": [
    {
     "data": {
      "text/html": [
       "<div>\n",
       "<style scoped>\n",
       "    .dataframe tbody tr th:only-of-type {\n",
       "        vertical-align: middle;\n",
       "    }\n",
       "\n",
       "    .dataframe tbody tr th {\n",
       "        vertical-align: top;\n",
       "    }\n",
       "\n",
       "    .dataframe thead th {\n",
       "        text-align: right;\n",
       "    }\n",
       "</style>\n",
       "<table border=\"1\" class=\"dataframe\">\n",
       "  <thead>\n",
       "    <tr style=\"text-align: right;\">\n",
       "      <th></th>\n",
       "      <th>userId</th>\n",
       "      <th>movieId</th>\n",
       "      <th>rating</th>\n",
       "      <th>title</th>\n",
       "    </tr>\n",
       "  </thead>\n",
       "  <tbody>\n",
       "    <tr>\n",
       "      <th>0</th>\n",
       "      <td>1</td>\n",
       "      <td>307</td>\n",
       "      <td>3.5</td>\n",
       "      <td>Three Colors: Blue (Trois couleurs: Bleu) (1993)</td>\n",
       "    </tr>\n",
       "    <tr>\n",
       "      <th>1</th>\n",
       "      <td>6</td>\n",
       "      <td>307</td>\n",
       "      <td>4.0</td>\n",
       "      <td>Three Colors: Blue (Trois couleurs: Bleu) (1993)</td>\n",
       "    </tr>\n",
       "    <tr>\n",
       "      <th>2</th>\n",
       "      <td>56</td>\n",
       "      <td>307</td>\n",
       "      <td>4.0</td>\n",
       "      <td>Three Colors: Blue (Trois couleurs: Bleu) (1993)</td>\n",
       "    </tr>\n",
       "    <tr>\n",
       "      <th>3</th>\n",
       "      <td>71</td>\n",
       "      <td>307</td>\n",
       "      <td>5.0</td>\n",
       "      <td>Three Colors: Blue (Trois couleurs: Bleu) (1993)</td>\n",
       "    </tr>\n",
       "    <tr>\n",
       "      <th>4</th>\n",
       "      <td>84</td>\n",
       "      <td>307</td>\n",
       "      <td>3.0</td>\n",
       "      <td>Three Colors: Blue (Trois couleurs: Bleu) (1993)</td>\n",
       "    </tr>\n",
       "  </tbody>\n",
       "</table>\n",
       "</div>"
      ],
      "text/plain": [
       "   userId  movieId  rating                                             title\n",
       "0       1      307     3.5  Three Colors: Blue (Trois couleurs: Bleu) (1993)\n",
       "1       6      307     4.0  Three Colors: Blue (Trois couleurs: Bleu) (1993)\n",
       "2      56      307     4.0  Three Colors: Blue (Trois couleurs: Bleu) (1993)\n",
       "3      71      307     5.0  Three Colors: Blue (Trois couleurs: Bleu) (1993)\n",
       "4      84      307     3.0  Three Colors: Blue (Trois couleurs: Bleu) (1993)"
      ]
     },
     "execution_count": 18,
     "metadata": {},
     "output_type": "execute_result"
    }
   ],
   "source": [
    "df_cleaned_list.head()"
   ]
  },
  {
   "cell_type": "code",
   "execution_count": 19,
   "metadata": {},
   "outputs": [],
   "source": [
    "# TODO: Do a plot over the combined rating against movield\n",
    "\n",
    "# create a scatter plot of the combined rating against movieId\n",
    "plt.scatter(df_cleaned_list['movieId'], df_cleaned_list['rating'])\n",
    "\n",
    "# set the title and labels for the plot\n",
    "plt.title('Combined Rating vs. Movie ID')\n",
    "plt.xlabel('Movie ID')\n",
    "plt.ylabel('Combined Rating')\n",
    "\n",
    "# display the plot\n",
    "plt.show()"
   ]
  },
  {
   "cell_type": "code",
   "execution_count": null,
   "metadata": {},
   "outputs": [],
   "source": [
    "# TODO: Plot how many NaN values there is in the dataset DONE\n",
    "# TODO: Plot top10 movies with best ratings DONE\n",
    "# TODO: Calculate the mean rating for the top10 with THE MOST ratings, and plot DONE\n",
    "\n",
    "\n",
    "# TODO: Do a plot over the years and how many movies that was created that year, to represent the dataset\n",
    "# TODO: Do a plot over the combined rating against movield\n",
    "       # Want \n",
    "\n",
    "\n",
    "# TODO: Calculate the mean ratings for the top10 movies with the most ratings, make a stapel diagram from this\n",
    "\n",
    "# TODO: There is a logical error in the video guide. (Might have something to do with the quote below)\n",
    "       # \"Hi, while you are trying not to present the recommendation of 'toy story' itself, by adding: print(df_movies['title'][i].where(i!=idx))\n",
    "        # you still have that in the first line as NaN\"\n",
    "\n",
    "       # Maybe it is because in df_movies movield the toy story has index 0? Somehow it can mess with\n",
    "       # everything since we fillna 0 values to rating"
   ]
  }
 ],
 "metadata": {
  "kernelspec": {
   "display_name": "Machine-Learning-I2BFtoY6",
   "language": "python",
   "name": "python3"
  },
  "language_info": {
   "codemirror_mode": {
    "name": "ipython",
    "version": 3
   },
   "file_extension": ".py",
   "mimetype": "text/x-python",
   "name": "python",
   "nbconvert_exporter": "python",
   "pygments_lexer": "ipython3",
   "version": "3.9.13"
  },
  "orig_nbformat": 4
 },
 "nbformat": 4,
 "nbformat_minor": 2
}
