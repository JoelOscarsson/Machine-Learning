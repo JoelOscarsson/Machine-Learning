{
 "cells": [
  {
   "cell_type": "code",
   "execution_count": 1,
   "metadata": {},
   "outputs": [],
   "source": [
    "# Importing packages thats being used\n",
    "import pandas as pd\n",
    "import seaborn as sns\n",
    "import matplotlib.pyplot as plt"
   ]
  },
  {
   "cell_type": "code",
   "execution_count": null,
   "metadata": {},
   "outputs": [],
   "source": [
    "movies = pd.read_csv('/Users/joeloscarsson/Documents/www/Machine-Learning/Projects/data3/movies.csv')\n",
    "ratings = pd.read_csv('/Users/joeloscarsson/Documents/www/Machine-Learning/Projects/data3/ratings.csv')\n",
    "\n",
    "# # Converting to the datatypes i want to use. \n",
    "# df_movies = pd.read_csv(movies, usecols=['movieId', 'title'], dtype={'movieId': 'int32', 'title': 'str'})\n",
    "# df_ratings = pd.read_csv(ratings, usecols=['userId', 'movieId', 'rating'], dtype={'userId': 'int32', 'movieId': 'int32', 'rating':'float32'})"
   ]
  },
  {
   "cell_type": "code",
   "execution_count": null,
   "metadata": {},
   "outputs": [],
   "source": [
    "movies.head()"
   ]
  },
  {
   "cell_type": "code",
   "execution_count": null,
   "metadata": {},
   "outputs": [],
   "source": [
    "# Checking datatypes and entries\n",
    "print(movies.info())\n",
    "\n",
    "# We have 58098 Movies in this dataset\n",
    "print(movies.describe())\n",
    "\n",
    "# We have zero NaN values... for now...\n",
    "print(movies.isnull().sum().sum())\n"
   ]
  },
  {
   "cell_type": "code",
   "execution_count": null,
   "metadata": {},
   "outputs": [],
   "source": [
    "ratings.head()"
   ]
  },
  {
   "cell_type": "code",
   "execution_count": null,
   "metadata": {},
   "outputs": [],
   "source": [
    "# Checking datatypes and entries\n",
    "print(ratings.info())\n",
    "\n",
    "\n",
    "print(ratings.head())\n",
    "\n",
    "# Investigating what kind of values we have in the rating\n",
    "# Can see that we have from 0.5-5.0, i want to avoid diluting this list \n",
    "print(ratings.value_counts(['rating']))"
   ]
  },
  {
   "cell_type": "code",
   "execution_count": null,
   "metadata": {},
   "outputs": [],
   "source": [
    "# So we have zero NaN values in the entire df of ratings, for now...\n",
    "print(ratings.isnull().sum().sum())"
   ]
  },
  {
   "cell_type": "code",
   "execution_count": null,
   "metadata": {},
   "outputs": [],
   "source": [
    "# TODO: Plot how many NaN values there is in the dataset\n",
    "\n",
    "# TODO: See how many missing values there is in the dataset"
   ]
  },
  {
   "cell_type": "code",
   "execution_count": null,
   "metadata": {},
   "outputs": [],
   "source": [
    "# TODO: Plot how many NaN values there is in the dataset\n",
    "# TODO: Plot top10 movies with best ratings\n",
    "# TODO: Calculate the mean rating for the top10 with THE MOST ratings, and plot\n",
    "# TODO: Do a plot over the years and how many movies that was created that year, to represent the dataset\n",
    "# TODO: Do a plot over the combined rating against movield\n",
    "# TODO: Calculate the mean ratings for the top10 movies with the most ratings, make a stapel diagram from this\n",
    "\n",
    "# TODO: There is a logical error in the video guide. (Might have something to do with the quote below)\n",
    "       # \"Hi, while you are trying not to present the recommendation of 'toy story' itself, by adding: print(df_movies['title'][i].where(i!=idx))\n",
    "        # you still have that in the first line as NaN\"\n",
    "\n",
    "       # Maybe it is because in df_movies movield the toy story has index 0? Somehow it can mess with\n",
    "       # everything since we fillna 0 values to rating"
   ]
  }
 ],
 "metadata": {
  "kernelspec": {
   "display_name": "Machine-Learning-I2BFtoY6",
   "language": "python",
   "name": "python3"
  },
  "language_info": {
   "codemirror_mode": {
    "name": "ipython",
    "version": 3
   },
   "file_extension": ".py",
   "mimetype": "text/x-python",
   "name": "python",
   "nbconvert_exporter": "python",
   "pygments_lexer": "ipython3",
   "version": "3.9.13"
  },
  "orig_nbformat": 4
 },
 "nbformat": 4,
 "nbformat_minor": 2
}
